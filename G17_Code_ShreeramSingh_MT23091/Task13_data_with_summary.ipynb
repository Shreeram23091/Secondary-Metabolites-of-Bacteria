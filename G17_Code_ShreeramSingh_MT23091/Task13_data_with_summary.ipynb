{
  "nbformat": 4,
  "nbformat_minor": 0,
  "metadata": {
    "colab": {
      "provenance": []
    },
    "kernelspec": {
      "name": "python3",
      "display_name": "Python 3"
    },
    "language_info": {
      "name": "python"
    }
  },
  "cells": [
    {
      "cell_type": "code",
      "source": [
        "import csv\n",
        "import pandas as pd\n",
        "\n",
        "# Open the CSV file and read its contents using the csv module\n",
        "with open('/content/Task4_Secondary_Metabolites_Bacteria_Genes_Pubmed.csv', 'r', encoding='utf-8') as file:\n",
        "    reader = csv.reader(file)\n",
        "    data = list(reader)\n",
        "\n",
        "# Convert the data to a pandas DataFrame\n",
        "df = pd.DataFrame(data[1:], columns=data[0])\n"
      ],
      "metadata": {
        "id": "da3T9JWwDdPs"
      },
      "execution_count": 18,
      "outputs": []
    },
    {
      "cell_type": "code",
      "source": [
        "# Import required libraries\n",
        "from transformers import pipeline\n",
        "import textwrap\n",
        "import pandas as pd\n",
        "\n",
        "# Load the CSV file into a DataFrame (assuming the file is named 'data.csv')\n",
        "\n",
        "# Initialize the summarization pipeline\n",
        "summarizer = pipeline('summarization')\n",
        "\n",
        "# Define a function to wrap text\n",
        "def wrap(text):\n",
        "    return textwrap.fill(text, replace_whitespace=False, fix_sentence_endings=True)\n",
        "\n",
        "# Function to summarize each sentence and return the summary\n",
        "def summarize_sentence(sentence):\n",
        "    try:\n",
        "        summary = summarizer(sentence, max_length=50, min_length=20, do_sample=False)[0]['summary_text']\n",
        "        return wrap(summary)\n",
        "    except IndexError:\n",
        "        # Return an empty string if no summary is generated\n",
        "        return \"\"\n",
        "\n",
        "\n",
        "df['Sentences'] = df['Sentences'].replace(\";\", \"\")\n",
        "# Apply the summarization function to each sentence in the DataFrame\n",
        "df['Summary'] = df['Sentences'].apply(summarize_sentence)\n",
        "\n",
        "# Save the DataFrame back to CSV with the summaries included\n",
        "df.to_csv('Task13_data_with_summary', index=False)\n",
        "\n",
        "# Display the first few rows of the DataFrame with summaries\n",
        "print(df.head())\n"
      ],
      "metadata": {
        "colab": {
          "base_uri": "https://localhost:8080/"
        },
        "id": "unqqmgdeEPOq",
        "outputId": "6f2be3b5-4e3a-42c1-b089-7b86e1dbe596"
      },
      "execution_count": 20,
      "outputs": [
        {
          "output_type": "stream",
          "name": "stderr",
          "text": [
            "No model was supplied, defaulted to sshleifer/distilbart-cnn-12-6 and revision a4f8f3e (https://huggingface.co/sshleifer/distilbart-cnn-12-6).\n",
            "Using a pipeline without specifying a model name and revision in production is not recommended.\n",
            "Token indices sequence length is longer than the specified maximum sequence length for this model (1177 > 1024). Running this sequence through the model will result in indexing errors\n",
            "Your max_length is set to 50, but your input_length is only 3. Since this is a summarization task, where outputs shorter than the input are typically wanted, you might consider decreasing max_length manually, e.g. summarizer('...', max_length=1)\n",
            "Your max_length is set to 50, but your input_length is only 3. Since this is a summarization task, where outputs shorter than the input are typically wanted, you might consider decreasing max_length manually, e.g. summarizer('...', max_length=1)\n",
            "Your max_length is set to 50, but your input_length is only 3. Since this is a summarization task, where outputs shorter than the input are typically wanted, you might consider decreasing max_length manually, e.g. summarizer('...', max_length=1)\n",
            "Your max_length is set to 50, but your input_length is only 48. Since this is a summarization task, where outputs shorter than the input are typically wanted, you might consider decreasing max_length manually, e.g. summarizer('...', max_length=24)\n",
            "Your max_length is set to 50, but your input_length is only 41. Since this is a summarization task, where outputs shorter than the input are typically wanted, you might consider decreasing max_length manually, e.g. summarizer('...', max_length=20)\n",
            "Your max_length is set to 50, but your input_length is only 41. Since this is a summarization task, where outputs shorter than the input are typically wanted, you might consider decreasing max_length manually, e.g. summarizer('...', max_length=20)\n",
            "Your max_length is set to 50, but your input_length is only 3. Since this is a summarization task, where outputs shorter than the input are typically wanted, you might consider decreasing max_length manually, e.g. summarizer('...', max_length=1)\n",
            "Your max_length is set to 50, but your input_length is only 3. Since this is a summarization task, where outputs shorter than the input are typically wanted, you might consider decreasing max_length manually, e.g. summarizer('...', max_length=1)\n",
            "Your max_length is set to 50, but your input_length is only 3. Since this is a summarization task, where outputs shorter than the input are typically wanted, you might consider decreasing max_length manually, e.g. summarizer('...', max_length=1)\n",
            "Your max_length is set to 50, but your input_length is only 3. Since this is a summarization task, where outputs shorter than the input are typically wanted, you might consider decreasing max_length manually, e.g. summarizer('...', max_length=1)\n",
            "Your max_length is set to 50, but your input_length is only 44. Since this is a summarization task, where outputs shorter than the input are typically wanted, you might consider decreasing max_length manually, e.g. summarizer('...', max_length=22)\n"
          ]
        },
        {
          "output_type": "stream",
          "name": "stdout",
          "text": [
            "    Genes GenesID      PMID    PMCID  \\\n",
            "0     A2a   28882  28358337  6154602   \n",
            "1     ABC   10058  27903896  5210574   \n",
            "2     Apr    5366  23708134  3719553   \n",
            "3  Atpdr2  827187  19854857  2785968   \n",
            "4     B17    4712  21429787  3947797   \n",
            "\n",
            "                                           Sentences  \\\n",
            "0   Two novel benzamido nonacyclic dilactones, na...   \n",
            "1   In order to advance the exploration of microb...   \n",
            "2   Another important category of the GacA regulo...   \n",
            "3   After two generations, only the Arabidopsis a...   \n",
            "4   Today, this burgeoning class of natural produ...   \n",
            "\n",
            "                                             Summary  \n",
            "0   Two novel benzamido nonacyclic dilactones, ne...  \n",
            "1                                                     \n",
            "2   GacA regulated H1, H2, H3, Hxc (T2SS), and Ha...  \n",
            "3   The function of abcg30 (also known as Atpdr2)...  \n",
            "4   The general biosynthetic route for the produc...  \n"
          ]
        }
      ]
    },
    {
      "cell_type": "code",
      "source": [],
      "metadata": {
        "id": "R-_Gr9LuEWrc"
      },
      "execution_count": null,
      "outputs": []
    }
  ]
}