{
  "cells": [
    {
      "cell_type": "code",
      "execution_count": 8,
      "metadata": {
        "colab": {
          "base_uri": "https://localhost:8080/"
        },
        "id": "lnxEly6Ffs8o",
        "outputId": "ec98ddc2-4245-4069-e249-9ae7a2d575dc"
      },
      "outputs": [
        {
          "output_type": "stream",
          "name": "stdout",
          "text": [
            "Requirement already satisfied: plotly in /usr/local/lib/python3.10/dist-packages (5.15.0)\n",
            "Requirement already satisfied: tenacity>=6.2.0 in /usr/local/lib/python3.10/dist-packages (from plotly) (9.0.0)\n",
            "Requirement already satisfied: packaging in /usr/local/lib/python3.10/dist-packages (from plotly) (24.1)\n"
          ]
        }
      ],
      "source": [
        "pip install plotly\n"
      ]
    },
    {
      "cell_type": "code",
      "execution_count": 22,
      "metadata": {
        "colab": {
          "base_uri": "https://localhost:8080/",
          "height": 817
        },
        "id": "gsoqrozjhJwG",
        "outputId": "939ae760-24af-4349-f7e6-144b8448b868"
      },
      "outputs": [
        {
          "output_type": "display_data",
          "data": {
            "text/html": [
              "<html>\n",
              "<head><meta charset=\"utf-8\" /></head>\n",
              "<body>\n",
              "    <div>            <script src=\"https://cdnjs.cloudflare.com/ajax/libs/mathjax/2.7.5/MathJax.js?config=TeX-AMS-MML_SVG\"></script><script type=\"text/javascript\">if (window.MathJax && window.MathJax.Hub && window.MathJax.Hub.Config) {window.MathJax.Hub.Config({SVG: {font: \"STIX-Web\"}});}</script>                <script type=\"text/javascript\">window.PlotlyConfig = {MathJaxConfig: 'local'};</script>\n",
              "        <script charset=\"utf-8\" src=\"https://cdn.plot.ly/plotly-2.24.1.min.js\"></script>                <div id=\"cb8d24c4-5214-48ca-b089-eb75100c3d69\" class=\"plotly-graph-div\" style=\"height:800px; width:800px;\"></div>            <script type=\"text/javascript\">                                    window.PLOTLYENV=window.PLOTLYENV || {};                                    if (document.getElementById(\"cb8d24c4-5214-48ca-b089-eb75100c3d69\")) {                    Plotly.newPlot(                        \"cb8d24c4-5214-48ca-b089-eb75100c3d69\",                        [{\"line\":{\"width\":0.5},\"marker\":{\"color\":[\"rgba(0, 255, 0, 0.3)\",\"rgba(0, 255, 0, 0.3)\",\"rgba(0, 255, 0, 0.3)\",\"rgba(0, 255, 0, 0.3)\",\"rgba(0, 255, 0, 0.3)\",\"rgba(0, 255, 0, 0.3)\",\"rgba(0, 255, 0, 0.3)\",\"rgba(0, 255, 0, 0.3)\",\"rgba(0, 0, 255, 0.3)\",\"rgba(0, 0, 255, 0.3)\",\"rgba(0, 255, 0, 0.3)\",\"rgba(0, 255, 0, 0.3)\",\"rgba(0, 255, 0, 0.3)\",\"rgba(0, 255, 0, 0.3)\",\"rgba(0, 255, 0, 0.3)\",\"rgba(0, 255, 0, 0.3)\",\"rgba(0, 255, 0, 0.3)\",\"rgba(255, 0, 0, 0.3)\",\"rgba(0, 255, 0, 0.3)\",\"rgba(0, 255, 0, 0.3)\",\"rgba(0, 255, 0, 0.3)\",\"rgba(0, 255, 0, 0.3)\",\"rgba(0, 255, 0, 0.3)\",\"rgba(255, 0, 0, 0.3)\",\"rgba(0, 0, 255, 0.3)\",\"rgba(0, 0, 255, 0.3)\",\"rgba(0, 255, 0, 0.3)\",\"rgba(0, 255, 0, 0.3)\",\"rgba(0, 255, 0, 0.3)\",\"rgba(0, 0, 255, 0.3)\",\"rgba(0, 0, 255, 0.3)\",\"rgba(0, 255, 0, 0.3)\",\"rgba(0, 255, 0, 0.3)\",\"rgba(0, 255, 0, 0.3)\",\"rgba(0, 255, 0, 0.3)\",\"rgba(0, 255, 0, 0.3)\",\"rgba(0, 255, 0, 0.3)\",\"rgba(0, 255, 0, 0.3)\",\"rgba(0, 0, 255, 0.3)\",\"rgba(0, 0, 255, 0.3)\",\"rgba(0, 255, 0, 0.3)\",\"rgba(0, 255, 0, 0.3)\",\"rgba(0, 255, 0, 0.3)\"]},\"mode\":\"lines\",\"name\":\"Relationships\",\"x\":[-0.33964213557036893,-0.32212440292846933,-0.41305344638886204,-0.6908099637354466,-0.4378282122338355,-0.27653835857924475,0.5979476062061182,0.7717146628607267,-0.30431619333701565,-0.759460698948752,-0.6382918061977795,-0.8418791448901389,0.8843523096751625,0.9385773839868723,0.6087319443081036,0.8424553354985551,0.028370170695390304,-0.11110233596048726,0.028370170695390304,-0.10627280437360907,0.2624516117810152,0.5016133099633762,0.9311606944235067,0.8517635329213349,0.07329197422792141,0.48500220867513505,-0.36878730317188413,-0.9589849838387148,-0.9194845298896153,-0.8848081837322214,0.3715169739919721,0.5792113852102094,0.3270178936351958,0.6277126765481609,0.11602066333948263,0.4138482774273432,0.12180041645641843,0.08028516644013932,-0.5553675075252612,-0.8702124440318522,-0.5931283835533203,-0.4114236060069357,0.2144505378135776,-0.002695088197154605,-0.5900885727508872,-0.8867240077974582,0.12371795737968451,0.4138482774273432,-0.17528795381861362,-0.9854807273790946,-0.17528795381861362,0.6374915974224875,-0.7016342606149358,-0.9282913292141232,0.730070145763108,0.909442224511457,0.6331719275309846,0.7444386448521976,0.6984245306418948,0.9556854092368087,0.6984245306418948,0.5124969329179361,-0.3504449513369735,-0.9754906778816946,-0.6299625020919907,-0.9125516298321474,0.19923415581650644,0.402836650376643,-0.8177822704534716,-0.9316987927083636,-0.5497422388046223,-0.3104805799439828,-0.3132178528811436,-0.38095575656767844,0.4367799551796501,0.7391547533503756,-0.33050256152291385,0.11994323274618214,-0.33050256152291385,-0.773334647917141,0.39733983925750027,0.9532339729032306,0.17851478908590226,0.1412654928127785,-0.5137181367225423,-0.6780416956791837],\"y\":[0.3648304294150395,0.868911327830058,0.6248092500106867,0.7235269598434149,-0.7014954979376817,-0.963238905737517,-0.547501919574642,-0.4837788902030405,0.5588368536136186,0.6976554457914325,0.19087357937886487,0.47458561688979617,-0.36357545385093754,-0.39651507450146445,-0.2370414777889007,-0.529270783157632,-0.8803198939527132,-0.9622508110800935,-0.8803198939527132,-0.913137535956821,-0.8090388208530822,-0.8071922736773144,0.09786910426347804,-0.12433375561982754,0.3112889694333403,0.8832987226083766,-0.041872656223926386,0.238129052184283,-0.22996498739395596,-0.011020834864999813,-0.4151426434711162,-0.7767260689706346,0.3690333415550585,0.8319556276186468,-0.27970421964730074,-0.8563768717192285,0.14918686333521447,0.6818545888625371,-0.10816264562543966,-0.20223453403495162,-0.7244319796578138,-0.8817402063496246,0.46367397092862234,0.8951205515817461,0.36460594888842107,0.45491245503112165,-0.4076722027068357,-0.8563768717192285,0.2969354909179815,-0.08505240750420981,0.2969354909179815,0.670212804735423,0.25808615631563037,0.4173991646321658,-0.0543738605998012,-0.2815427492907567,-0.4111235187463661,-0.7030357822535189,0.5308264292316134,0.3108118630362484,0.5308264292316134,0.8170265757165303,-0.057268353413360076,0.014601711565037994,-0.20117843295599183,-0.3528882121554654,0.24548232540695658,0.9066993526390049,0.21286788727498443,-0.1468167042594477,-0.8718877751436961,-0.9177293794892208,-0.7744629219341104,-0.9230000003189298,-0.2894677534228396,-0.648165313752735,0.13045648282724767,0.8218077666562164,0.13045648282724767,-0.5652049846323259,-0.3214596686293558,-0.2358386241536077,0.5410099165264748,0.9883678498712238,0.8068542737625629,0.622879244914874],\"type\":\"scatter\"},{\"marker\":{\"color\":[\"blue\",\"blue\",\"green\",\"blue\",\"green\",\"blue\",\"blue\",\"blue\",\"blue\",\"blue\",\"blue\",\"green\",\"blue\",\"blue\",\"blue\",\"green\",\"blue\",\"blue\",\"blue\",\"blue\",\"blue\",\"blue\",\"blue\",\"blue\",\"blue\",\"blue\",\"green\",\"blue\",\"blue\",\"blue\",\"green\",\"green\",\"blue\",\"blue\",\"blue\",\"blue\",\"blue\",\"green\",\"purple\",\"green\",\"green\",\"blue\",\"blue\",\"blue\",\"blue\",\"blue\",\"blue\",\"blue\",\"blue\",\"green\",\"blue\",\"blue\",\"blue\",\"blue\",\"blue\",\"blue\",\"blue\",\"blue\",\"green\",\"blue\",\"blue\",\"blue\",\"blue\",\"blue\",\"blue\",\"blue\",\"green\",\"blue\",\"green\",\"blue\",\"blue\",\"blue\",\"blue\",\"blue\",\"blue\",\"blue\",\"blue\",\"blue\",\"blue\",\"blue\",\"blue\",\"blue\",\"blue\",\"green\",\"blue\",\"blue\",\"blue\",\"red\",\"blue\",\"blue\",\"blue\",\"blue\",\"blue\",\"blue\",\"blue\",\"blue\",\"blue\",\"blue\",\"blue\",\"blue\",\"green\",\"blue\",\"blue\",\"blue\",\"blue\",\"blue\",\"blue\",\"blue\",\"blue\",\"blue\",\"green\",\"blue\",\"green\",\"green\",\"blue\",\"blue\",\"green\",\"blue\",\"blue\",\"blue\",\"blue\",\"blue\",\"blue\",\"blue\",\"blue\",\"blue\",\"blue\",\"blue\",\"purple\",\"blue\",\"blue\",\"green\",\"blue\",\"blue\",\"green\",\"green\",\"blue\",\"blue\",\"green\",\"purple\",\"green\",\"blue\",\"blue\",\"blue\",\"blue\",\"blue\",\"blue\",\"blue\",\"blue\",\"blue\",\"blue\",\"green\",\"blue\",\"blue\",\"blue\",\"green\",\"green\",\"blue\",\"blue\",\"blue\",\"blue\",\"blue\",\"blue\",\"blue\",\"blue\",\"blue\",\"blue\",\"green\",\"blue\",\"blue\",\"green\",\"blue\",\"blue\",\"blue\",\"blue\",\"blue\",\"blue\",\"blue\",\"purple\",\"blue\",\"green\",\"purple\",\"blue\",\"blue\",\"blue\",\"green\",\"blue\",\"blue\",\"blue\",\"green\",\"blue\",\"blue\",\"blue\",\"blue\",\"blue\",\"blue\",\"blue\",\"green\",\"blue\",\"blue\"],\"opacity\":0.8,\"size\":[4.5,4.5,1.5,4.5,1.5,4.5,4.5,4.5,4.5,9.0,4.5,1.5,4.5,4.5,4.5,1.5,4.5,4.5,4.5,9.0,4.5,4.5,4.5,4.5,4.5,4.5,1.5,4.5,4.5,4.5,1.5,1.5,4.5,4.5,4.5,4.5,4.5,1.5,3.0,1.5,1.5,4.5,4.5,4.5,4.5,4.5,4.5,4.5,4.5,1.5,4.5,4.5,4.5,4.5,4.5,4.5,4.5,4.5,1.5,4.5,4.5,4.5,4.5,4.5,4.5,4.5,1.5,4.5,1.5,4.5,4.5,4.5,4.5,4.5,4.5,4.5,4.5,4.5,4.5,4.5,4.5,4.5,4.5,1.5,4.5,4.5,4.5,3.0,4.5,4.5,4.5,9.0,4.5,4.5,4.5,4.5,4.5,4.5,4.5,4.5,1.5,4.5,4.5,4.5,4.5,4.5,4.5,4.5,4.5,9.0,1.5,4.5,1.5,1.5,4.5,4.5,1.5,4.5,4.5,4.5,4.5,4.5,4.5,4.5,4.5,4.5,4.5,4.5,3.0,4.5,4.5,4.5,4.5,4.5,1.5,1.5,4.5,4.5,1.5,3.0,1.5,4.5,4.5,4.5,4.5,4.5,4.5,4.5,4.5,4.5,4.5,1.5,4.5,9.0,4.5,1.5,1.5,4.5,4.5,4.5,4.5,4.5,4.5,4.5,4.5,4.5,4.5,1.5,4.5,4.5,1.5,4.5,4.5,4.5,4.5,4.5,4.5,4.5,4.5,4.5,1.5,3.0,4.5,4.5,4.5,1.5,4.5,4.5,4.5,1.5,4.5,4.5,4.5,4.5,4.5,4.5,4.5,1.5,4.5,4.5]},\"mode\":\"markers+text\",\"name\":\"Entities\",\"text\":[\"copA\",\"TH\",\"(p)ppGpp\",\"ABC\",\"13C\",\"insulin\",\"Ccr2\",\"interleukin-1beta\",\"Atpdr2\",\"rpoB\",\"mL\",\"1,1-Difluoro-2-bromo-2-chloroethylene\",\"cytochrome P-450\",\"crp\",\"interleukin 8\",\"1-carbapen-2-em-3 carboxylic acid\",\"abc\",\"cinnamate 4-hydroxylase\",\"Phr\",\"rpoS\",\"actIORF1\",\"EN A1\",\"VEGF\",\"G6PDH\",\"SCP2*\",\"cat2\",\"1-methyltryptophan\",\"PHZ1\",\"Rb2\",\"pigX\",\"14C\",\"1-octen-3-ol\",\"ScbA\",\"MCT1\",\"sare0718\",\"Crp\",\"ACE\",\"(-)-8-O-methyltetrangomycin\",\"Amycolatopsis\",\"#VALUE!\",\"1-hexacosanol\",\"SCO5092\",\"cis-1\",\"nonribosomal peptide synthetase\",\"PigX\",\"Sea\",\"IFN-gamma\",\"scbA\",\"MIC \\u003c 1\",\"1,1,1-Trifluoro-2-chloroethane\",\"Apr\",\"rhodopsin\",\"3-hydroxy-3-methylglutaryl-coenzyme A reductase\",\"MYB\",\"aurora kinase A\",\"cholinesterase\",\"pigA\",\"SRB1\",\"#NAME?\",\"GcvT\",\"CAST\",\"AfsR\",\"TGA\",\"IF2\",\"mL-1\",\"Rev\",\"1, 3-bis (3-phenoxyphenoxy)benzene\",\"spp\",\"1-hydroxyphenazine\",\"IL-8\",\"abcg30\",\"alpha-synuclein\",\"CTLA4\",\"CopA\",\"peroxidase\",\"actVB\",\"COX2\",\"ER\",\"UGT73B5\",\"mL(-1)\",\"hcn\",\"wat1\",\"Esi\",\"13-methyl-N-(2-phenylethyl)tetradecanamide\",\"vascular endothelial growth factor\",\"IL-6\",\"ugt73b5\",\"EC\",\"Ccr10\",\"ERalpha\\u002fbeta\",\"A2a\",\"GacA\",\"CYP3\",\"squalene synthase\",\"Il2rb\",\"Has\",\"src\",\"azoreductase\",\"Organic anion transporting polypeptide 1a1\",\"cathepsins B and L\",\"1,8-cineol\",\"cryptic\",\"IL-1beta\",\"coi1\",\"Rb1\",\"hrpL\",\"MYB10\",\"acd2\",\"aid\",\"gacA\",\"(E,E,E)-geranylgeranyl diphosphate\",\"lysozyme\",\"-2,4-dimethylbenzoic acid\",\"1-aminoethylphosphonic acid\",\"chemokine receptor 2\",\"poly(ADP-ribose) polymerase\",\"(S)-norcoclaurine\",\"HrpL\",\"C-G\",\"Age\",\"ERbeta\\u002fbeta\",\"B17\",\"WAT1\",\"beta-CD\",\"caspase 3\",\"A1, A2, B, B1 and B4\",\"Tyrosyl-tRNA Synthetase\",\"glucose-6-phosphate dehydrogenase\",\"Alcaligenes\",\"tyrosine hydroxylase\",\"A1, A2, B\",\"HCN\",\"carR\",\"mL-1 and 20\",\"(S)-reticuline\",\"1-methyl-4-methylthio-beta-carboline\",\"Azoreductase\",\"PigZ\",\"12-methyltetradecanoic acid\",\"Acremonium sp\",\"11-oxoaerothionin\",\"ugt73b3\",\"cryptic\\\"\",\"CD274\",\"SCO5087\",\"Sare0718\",\"Cxcl10\",\"rep\",\"interleukin-8\",\"nov\",\"ERalpha\\u002falpha\",\"15-acetyl-DON\",\"Il-1beta\",\"RpoS\",\"ein2\",\"1,3,6,8-tetrahydroxynaphthalene\",\"1,8-cineole\",\"butyrylcholinesterase\",\"cytochrome P-450,\",\"hrpR\",\"CYP\",\"nitrite reductase\",\"apolipoprotein A-I binding protein\",\"ORF1\",\"organic anion transporting polypeptide 1a1\",\"AfsK\",\"Gac\",\"(S)-ginsenoside Rg3\",\"U25\",\"MSI\",\"1-acetyl-beta-carboline\",\"FRAP\",\"mBF\",\"pigZ\",\"Oatp1a1\",\"UGT73B3\",\"IF1\",\"cytochrome c oxidase\",\"PAO1\",\"fatty acid synthase\",\"1-carbapen-2-em-3-carboxylic acid\",\"Agrobacterium\",\"angiotensin-converting enzyme\",\"TNF-alpha\",\"PA2449\",\"1,1,3,3-tetrabromo-2-heptanone\",\"Estrogen Receptor\",\"FAS\",\"chemokine receptor 10\",\"(13)C\",\"recA\",\"serine hydroxymethyltransferase\",\"esi\",\"NRP\",\"attP\",\"sea\",\"fibronectin\",\"1-butanol\",\"bldA\",\"RpoN\"],\"textposition\":\"top center\",\"x\":[-0.15976616879103903,0.8129004861237367,-0.33964213557036893,-0.8867240077974582,-0.41305344638886204,-0.6567032580111686,0.7391547533503756,-0.7307694252955811,-0.8848081837322214,-0.45429885019497646,0.3285495604390901,-0.4378282122338355,-0.09774274935167204,-0.9213484602331486,0.11522959102404513,0.5979476062061182,-0.558224682944228,0.907128313050384,-0.46272705408863296,0.8210014076536063,-0.9469669884764917,-0.759460698948752,-0.6120986781745358,-0.7697085597153444,0.13289120111602998,0.9401777892111003,-0.30431619333701565,0.04470867076393871,-0.8423507915825612,-0.9510192063702876,-0.6382918061977795,0.8843523096751625,-0.8753868066911762,-0.6034152154113201,-0.4637915904157513,0.5792113852102094,-0.9282913292141232,0.6087319443081036,0.028370170695390304,0.2624516117810152,0.9311606944235067,-0.20199580957461846,-0.6781760573141927,0.7169729578256857,0.963783266641329,-0.7469671436278436,0.8819417478332093,0.9048321787110082,0.2972721738556417,0.07329197422792141,-0.9589849838387148,-0.7717558755568212,0.8424553354985551,-0.17068134951496794,-0.520276559214581,-0.5522767636580871,0.7983609120681937,0.18258919681027921,-0.36878730317188413,0.9619186736205518,0.402836650376643,-0.4114236060069357,-0.7903695939960002,0.5716818447368124,-0.9854807273790946,-0.2367833114413572,-0.9194845298896153,0.9443034735940006,0.3715169739919721,-0.2530394242884044,0.8922675974903289,-0.020053010133687193,-0.38095575656767844,0.8517635329213349,-0.8967209794598454,0.7940020120079021,-0.9316987927083636,0.9385773839868723,0.2954200765280026,-0.5281765317516042,-0.37019054502131055,0.8194984239758062,-0.6908099637354466,0.3270178936351958,-0.9693063415918761,0.4101956879638284,-0.10627280437360907,0.4138482774273432,0.7717146628607267,0.7444386448521976,-0.3104805799439828,0.6839750065421264,-0.6780416956791837,0.942210623710948,0.34235711317658996,0.11602066333948263,0.9425411418326164,-0.4016671759497683,0.3436435379647289,0.7232275779097121,0.12180041645641843,-0.40494694524902364,0.18669043004990965,-0.896712274657334,-0.9004693633459907,0.11994323274618214,0.5426265965169406,0.6224130986424744,-0.42581455785765027,0.23793212039800096,-0.5553675075252612,-0.947089585349924,-0.5931283835533203,0.2144505378135776,0.9565331854228789,0.9345322685063839,-0.5900885727508872,0.12371795737968451,-0.27653835857924475,0.5016133099633762,0.6277126765481609,0.9532339729032306,-0.8374800446249238,-0.06902031997372478,0.8567799050670545,-0.8702124440318522,0.8582209147034272,-0.8826552886749098,-0.17528795381861362,0.054181339997363374,0.1412654928127785,-0.9439733011574969,0.8563802441819917,0.6374915974224875,-0.7016342606149358,0.730070145763108,0.48500220867513505,0.4984514407128191,0.6331719275309846,0.6984245306418948,-0.3504449513369735,-0.11110233596048726,0.0007672156215419465,0.08028516644013932,-0.7268800366590404,-0.7660026976498704,0.909442224511457,-0.9327848155356623,0.6749487032191503,0.23428866923151984,-0.9754906778816946,-0.6299625020919907,0.28178606482716223,0.5708902626222406,0.785018125139198,0.19923415581650644,-0.8177822704534716,0.8003993885892309,-0.17115138723595053,-0.773334647917141,-0.002695088197154605,0.704017838150109,0.9556854092368087,0.3735900430788444,-0.33349280631761263,-0.32212440292846933,-0.8358827845095542,-0.5497422388046223,0.8947719337163613,-0.04767001077607639,-0.3132178528811436,-0.8746770683961089,-0.21106046480633636,0.2982404830843889,-0.5576124407545661,-0.010728930415609307,0.4629547846554953,-0.9313330864113728,-0.9817500286132639,0.9796304477141712,0.4367799551796501,-0.33050256152291385,0.9736536946981981,0.7672995749766163,-0.6508270207733033,0.39733983925750027,-0.8418791448901389,-0.9125516298321474,0.6018772740235662,0.17851478908590226,-0.8029804317140419,0.10259601205198146,0.43974735112914365,-0.598665569368747,0.5124969329179361,1.0,-0.2573327402922901,-0.5137181367225423,0.9512361062222288,0.5948149289705256],\"y\":[0.9722174065146054,0.41559437806105926,0.3648304294150395,0.45491245503112165,0.6248092500106867,0.8167137429810247,-0.648165313752735,-0.6461782665264943,-0.011020834864999813,-0.7755522759737379,-0.8984840437915772,-0.7014954979376817,0.92203983152665,0.08634594430599264,-0.9794920938321154,-0.547501919574642,0.8664062450509812,0.46821867589338917,-0.8612385804727686,-0.3675685323449948,-0.0925823055209959,0.6976554457914325,0.6882618653777305,0.4274766926811751,-0.9260115729394449,0.3840638786619749,0.5588368536136186,0.9709014450427202,-0.5321644006283794,-0.26114924550138147,0.19087357937886487,-0.36357545385093754,0.20410218422657134,0.7726413896989499,0.924840109862508,-0.7767260689706346,0.4173991646321658,-0.2370414777889007,-0.8803198939527132,-0.8090388208530822,0.09786910426347804,-0.9637605066780182,-0.5942715435724762,0.580010558403281,-0.0712932684120614,0.6171690118743375,0.22537606548270034,-0.19545324799821365,-0.7903259398047648,0.3112889694333403,0.238129052184283,-0.35909164425828555,-0.529270783157632,0.9040542288920967,-0.8494806635874335,-0.7862842743799867,0.6194409727911573,0.9444002020390577,-0.041872656223926386,0.06812084429331014,0.9066993526390049,-0.8817402063496246,-0.4513529570479953,0.812080777769069,-0.08505240750420981,-0.8941527578567792,-0.22996498739395596,-0.31593739753205025,-0.4151426434711162,0.9604480175210891,-0.4762732687278929,-0.8904907591046959,-0.9230000003189298,-0.12433375561982754,-0.42604043992253277,-0.6026102398449396,-0.1468167042594477,-0.39651507450146445,0.8791209003511374,0.7766537942562379,0.7920279500346901,0.3062851368611323,0.7235269598434149,0.3690333415550585,0.15071752121750004,-0.9173704016043177,-0.913137535956821,-0.8563768717192285,-0.4837788902030405,-0.7030357822535189,-0.9177293794892208,0.7593891323076065,0.622879244914874,0.032070665611324184,-0.8475783006417409,-0.27970421964730074,0.25643268182061163,-0.7107208097231446,0.9203867420050419,0.6796417837731852,0.14918686333521447,0.9055004287853261,-0.9827180565158765,0.366711919456492,-0.48578226806361524,0.8218077666562164,-0.7631121391489909,-0.7152833410617527,0.8239902798178731,0.9278427913371557,-0.10816264562543966,-0.19602940151760878,-0.7244319796578138,0.46367397092862234,0.1560370384822903,-0.020577078087780747,0.36460594888842107,-0.4076722027068357,-0.963238905737517,-0.8071922736773144,0.8319556276186468,-0.2358386241536077,0.6141718003175239,0.9852275623266247,0.5703074314333343,-0.20223453403495162,-0.4472363332762344,0.3088566095592137,0.2969354909179815,-0.9655944799410238,0.9883678498712238,-0.020384298307143348,0.48715953582591787,0.670212804735423,0.25808615631563037,-0.0543738605998012,0.8832987226083766,0.6458282953727714,-0.4111235187463661,0.5308264292316134,-0.057268353413360076,-0.9622508110800935,-0.9860114186024312,0.6818545888625371,0.5315230452652192,-0.7123207491376985,-0.2815427492907567,0.1775077686912225,-0.6923596531487354,-0.9485386927659978,0.014601711565037994,-0.20117843295599183,0.9646696138834499,-0.6701586466312331,-0.5542000889670727,0.24548232540695658,0.21286788727498443,0.5323405180309877,-0.9267415167419814,-0.5652049846323259,0.8951205515817461,-0.6004191159849042,0.3108118630362484,0.7920782751462507,-0.8542080844468031,0.868911327830058,-0.6027531632610866,-0.8718877751436961,0.3809133300161462,-0.9591256580611917,-0.7744629219341104,-0.3185328907007443,0.8299017942490784,-0.9451124987583848,0.6842326499749486,0.9497500800394394,-0.8370498689014984,0.29324309818846356,0.08262449660146706,0.10954830114589877,-0.2894677534228396,0.13045648282724767,-0.1717945974957603,0.7005752062353834,-0.76106915847408,-0.3214596686293558,0.47458561688979617,-0.3528882121554654,-0.8364106146459138,0.5410099165264748,0.5404100033951412,0.9541351856123964,0.8509931194042416,-0.7440146921867627,0.8170265757165303,-0.026234418653226538,0.8944778043176449,0.8068542737625629,-0.12193585292830839,0.7413631866605321],\"type\":\"scatter\"},{\"marker\":{\"color\":\"blue\",\"size\":15},\"mode\":\"markers\",\"name\":\"Genes (Blue)\",\"x\":[null],\"y\":[null],\"type\":\"scatter\"},{\"marker\":{\"color\":\"green\",\"size\":15},\"mode\":\"markers\",\"name\":\"Chemicals (Green)\",\"x\":[null],\"y\":[null],\"type\":\"scatter\"},{\"marker\":{\"color\":\"red\",\"size\":15},\"mode\":\"markers\",\"name\":\"Diseases (Red)\",\"x\":[null],\"y\":[null],\"type\":\"scatter\"},{\"marker\":{\"color\":\"purple\",\"size\":15},\"mode\":\"markers\",\"name\":\"Species (Purple)\",\"x\":[null],\"y\":[null],\"type\":\"scatter\"}],                        {\"template\":{\"data\":{\"histogram2dcontour\":[{\"type\":\"histogram2dcontour\",\"colorbar\":{\"outlinewidth\":0,\"ticks\":\"\"},\"colorscale\":[[0.0,\"#0d0887\"],[0.1111111111111111,\"#46039f\"],[0.2222222222222222,\"#7201a8\"],[0.3333333333333333,\"#9c179e\"],[0.4444444444444444,\"#bd3786\"],[0.5555555555555556,\"#d8576b\"],[0.6666666666666666,\"#ed7953\"],[0.7777777777777778,\"#fb9f3a\"],[0.8888888888888888,\"#fdca26\"],[1.0,\"#f0f921\"]]}],\"choropleth\":[{\"type\":\"choropleth\",\"colorbar\":{\"outlinewidth\":0,\"ticks\":\"\"}}],\"histogram2d\":[{\"type\":\"histogram2d\",\"colorbar\":{\"outlinewidth\":0,\"ticks\":\"\"},\"colorscale\":[[0.0,\"#0d0887\"],[0.1111111111111111,\"#46039f\"],[0.2222222222222222,\"#7201a8\"],[0.3333333333333333,\"#9c179e\"],[0.4444444444444444,\"#bd3786\"],[0.5555555555555556,\"#d8576b\"],[0.6666666666666666,\"#ed7953\"],[0.7777777777777778,\"#fb9f3a\"],[0.8888888888888888,\"#fdca26\"],[1.0,\"#f0f921\"]]}],\"heatmap\":[{\"type\":\"heatmap\",\"colorbar\":{\"outlinewidth\":0,\"ticks\":\"\"},\"colorscale\":[[0.0,\"#0d0887\"],[0.1111111111111111,\"#46039f\"],[0.2222222222222222,\"#7201a8\"],[0.3333333333333333,\"#9c179e\"],[0.4444444444444444,\"#bd3786\"],[0.5555555555555556,\"#d8576b\"],[0.6666666666666666,\"#ed7953\"],[0.7777777777777778,\"#fb9f3a\"],[0.8888888888888888,\"#fdca26\"],[1.0,\"#f0f921\"]]}],\"heatmapgl\":[{\"type\":\"heatmapgl\",\"colorbar\":{\"outlinewidth\":0,\"ticks\":\"\"},\"colorscale\":[[0.0,\"#0d0887\"],[0.1111111111111111,\"#46039f\"],[0.2222222222222222,\"#7201a8\"],[0.3333333333333333,\"#9c179e\"],[0.4444444444444444,\"#bd3786\"],[0.5555555555555556,\"#d8576b\"],[0.6666666666666666,\"#ed7953\"],[0.7777777777777778,\"#fb9f3a\"],[0.8888888888888888,\"#fdca26\"],[1.0,\"#f0f921\"]]}],\"contourcarpet\":[{\"type\":\"contourcarpet\",\"colorbar\":{\"outlinewidth\":0,\"ticks\":\"\"}}],\"contour\":[{\"type\":\"contour\",\"colorbar\":{\"outlinewidth\":0,\"ticks\":\"\"},\"colorscale\":[[0.0,\"#0d0887\"],[0.1111111111111111,\"#46039f\"],[0.2222222222222222,\"#7201a8\"],[0.3333333333333333,\"#9c179e\"],[0.4444444444444444,\"#bd3786\"],[0.5555555555555556,\"#d8576b\"],[0.6666666666666666,\"#ed7953\"],[0.7777777777777778,\"#fb9f3a\"],[0.8888888888888888,\"#fdca26\"],[1.0,\"#f0f921\"]]}],\"surface\":[{\"type\":\"surface\",\"colorbar\":{\"outlinewidth\":0,\"ticks\":\"\"},\"colorscale\":[[0.0,\"#0d0887\"],[0.1111111111111111,\"#46039f\"],[0.2222222222222222,\"#7201a8\"],[0.3333333333333333,\"#9c179e\"],[0.4444444444444444,\"#bd3786\"],[0.5555555555555556,\"#d8576b\"],[0.6666666666666666,\"#ed7953\"],[0.7777777777777778,\"#fb9f3a\"],[0.8888888888888888,\"#fdca26\"],[1.0,\"#f0f921\"]]}],\"mesh3d\":[{\"type\":\"mesh3d\",\"colorbar\":{\"outlinewidth\":0,\"ticks\":\"\"}}],\"scatter\":[{\"fillpattern\":{\"fillmode\":\"overlay\",\"size\":10,\"solidity\":0.2},\"type\":\"scatter\"}],\"parcoords\":[{\"type\":\"parcoords\",\"line\":{\"colorbar\":{\"outlinewidth\":0,\"ticks\":\"\"}}}],\"scatterpolargl\":[{\"type\":\"scatterpolargl\",\"marker\":{\"colorbar\":{\"outlinewidth\":0,\"ticks\":\"\"}}}],\"bar\":[{\"error_x\":{\"color\":\"#2a3f5f\"},\"error_y\":{\"color\":\"#2a3f5f\"},\"marker\":{\"line\":{\"color\":\"#E5ECF6\",\"width\":0.5},\"pattern\":{\"fillmode\":\"overlay\",\"size\":10,\"solidity\":0.2}},\"type\":\"bar\"}],\"scattergeo\":[{\"type\":\"scattergeo\",\"marker\":{\"colorbar\":{\"outlinewidth\":0,\"ticks\":\"\"}}}],\"scatterpolar\":[{\"type\":\"scatterpolar\",\"marker\":{\"colorbar\":{\"outlinewidth\":0,\"ticks\":\"\"}}}],\"histogram\":[{\"marker\":{\"pattern\":{\"fillmode\":\"overlay\",\"size\":10,\"solidity\":0.2}},\"type\":\"histogram\"}],\"scattergl\":[{\"type\":\"scattergl\",\"marker\":{\"colorbar\":{\"outlinewidth\":0,\"ticks\":\"\"}}}],\"scatter3d\":[{\"type\":\"scatter3d\",\"line\":{\"colorbar\":{\"outlinewidth\":0,\"ticks\":\"\"}},\"marker\":{\"colorbar\":{\"outlinewidth\":0,\"ticks\":\"\"}}}],\"scattermapbox\":[{\"type\":\"scattermapbox\",\"marker\":{\"colorbar\":{\"outlinewidth\":0,\"ticks\":\"\"}}}],\"scatterternary\":[{\"type\":\"scatterternary\",\"marker\":{\"colorbar\":{\"outlinewidth\":0,\"ticks\":\"\"}}}],\"scattercarpet\":[{\"type\":\"scattercarpet\",\"marker\":{\"colorbar\":{\"outlinewidth\":0,\"ticks\":\"\"}}}],\"carpet\":[{\"aaxis\":{\"endlinecolor\":\"#2a3f5f\",\"gridcolor\":\"white\",\"linecolor\":\"white\",\"minorgridcolor\":\"white\",\"startlinecolor\":\"#2a3f5f\"},\"baxis\":{\"endlinecolor\":\"#2a3f5f\",\"gridcolor\":\"white\",\"linecolor\":\"white\",\"minorgridcolor\":\"white\",\"startlinecolor\":\"#2a3f5f\"},\"type\":\"carpet\"}],\"table\":[{\"cells\":{\"fill\":{\"color\":\"#EBF0F8\"},\"line\":{\"color\":\"white\"}},\"header\":{\"fill\":{\"color\":\"#C8D4E3\"},\"line\":{\"color\":\"white\"}},\"type\":\"table\"}],\"barpolar\":[{\"marker\":{\"line\":{\"color\":\"#E5ECF6\",\"width\":0.5},\"pattern\":{\"fillmode\":\"overlay\",\"size\":10,\"solidity\":0.2}},\"type\":\"barpolar\"}],\"pie\":[{\"automargin\":true,\"type\":\"pie\"}]},\"layout\":{\"autotypenumbers\":\"strict\",\"colorway\":[\"#636efa\",\"#EF553B\",\"#00cc96\",\"#ab63fa\",\"#FFA15A\",\"#19d3f3\",\"#FF6692\",\"#B6E880\",\"#FF97FF\",\"#FECB52\"],\"font\":{\"color\":\"#2a3f5f\"},\"hovermode\":\"closest\",\"hoverlabel\":{\"align\":\"left\"},\"paper_bgcolor\":\"white\",\"plot_bgcolor\":\"#E5ECF6\",\"polar\":{\"bgcolor\":\"#E5ECF6\",\"angularaxis\":{\"gridcolor\":\"white\",\"linecolor\":\"white\",\"ticks\":\"\"},\"radialaxis\":{\"gridcolor\":\"white\",\"linecolor\":\"white\",\"ticks\":\"\"}},\"ternary\":{\"bgcolor\":\"#E5ECF6\",\"aaxis\":{\"gridcolor\":\"white\",\"linecolor\":\"white\",\"ticks\":\"\"},\"baxis\":{\"gridcolor\":\"white\",\"linecolor\":\"white\",\"ticks\":\"\"},\"caxis\":{\"gridcolor\":\"white\",\"linecolor\":\"white\",\"ticks\":\"\"}},\"coloraxis\":{\"colorbar\":{\"outlinewidth\":0,\"ticks\":\"\"}},\"colorscale\":{\"sequential\":[[0.0,\"#0d0887\"],[0.1111111111111111,\"#46039f\"],[0.2222222222222222,\"#7201a8\"],[0.3333333333333333,\"#9c179e\"],[0.4444444444444444,\"#bd3786\"],[0.5555555555555556,\"#d8576b\"],[0.6666666666666666,\"#ed7953\"],[0.7777777777777778,\"#fb9f3a\"],[0.8888888888888888,\"#fdca26\"],[1.0,\"#f0f921\"]],\"sequentialminus\":[[0.0,\"#0d0887\"],[0.1111111111111111,\"#46039f\"],[0.2222222222222222,\"#7201a8\"],[0.3333333333333333,\"#9c179e\"],[0.4444444444444444,\"#bd3786\"],[0.5555555555555556,\"#d8576b\"],[0.6666666666666666,\"#ed7953\"],[0.7777777777777778,\"#fb9f3a\"],[0.8888888888888888,\"#fdca26\"],[1.0,\"#f0f921\"]],\"diverging\":[[0,\"#8e0152\"],[0.1,\"#c51b7d\"],[0.2,\"#de77ae\"],[0.3,\"#f1b6da\"],[0.4,\"#fde0ef\"],[0.5,\"#f7f7f7\"],[0.6,\"#e6f5d0\"],[0.7,\"#b8e186\"],[0.8,\"#7fbc41\"],[0.9,\"#4d9221\"],[1,\"#276419\"]]},\"xaxis\":{\"gridcolor\":\"white\",\"linecolor\":\"white\",\"ticks\":\"\",\"title\":{\"standoff\":15},\"zerolinecolor\":\"white\",\"automargin\":true,\"zerolinewidth\":2},\"yaxis\":{\"gridcolor\":\"white\",\"linecolor\":\"white\",\"ticks\":\"\",\"title\":{\"standoff\":15},\"zerolinecolor\":\"white\",\"automargin\":true,\"zerolinewidth\":2},\"scene\":{\"xaxis\":{\"backgroundcolor\":\"#E5ECF6\",\"gridcolor\":\"white\",\"linecolor\":\"white\",\"showbackground\":true,\"ticks\":\"\",\"zerolinecolor\":\"white\",\"gridwidth\":2},\"yaxis\":{\"backgroundcolor\":\"#E5ECF6\",\"gridcolor\":\"white\",\"linecolor\":\"white\",\"showbackground\":true,\"ticks\":\"\",\"zerolinecolor\":\"white\",\"gridwidth\":2},\"zaxis\":{\"backgroundcolor\":\"#E5ECF6\",\"gridcolor\":\"white\",\"linecolor\":\"white\",\"showbackground\":true,\"ticks\":\"\",\"zerolinecolor\":\"white\",\"gridwidth\":2}},\"shapedefaults\":{\"line\":{\"color\":\"#2a3f5f\"}},\"annotationdefaults\":{\"arrowcolor\":\"#2a3f5f\",\"arrowhead\":0,\"arrowwidth\":1},\"geo\":{\"bgcolor\":\"white\",\"landcolor\":\"#E5ECF6\",\"subunitcolor\":\"white\",\"showland\":true,\"showlakes\":true,\"lakecolor\":\"white\"},\"title\":{\"x\":0.05},\"mapbox\":{\"style\":\"light\"}}},\"xaxis\":{\"showgrid\":false,\"zeroline\":false},\"yaxis\":{\"showgrid\":false,\"zeroline\":false},\"title\":{\"text\":\"Biological Knowledge Graph (Top 200 Nodes)\"},\"showlegend\":true,\"paper_bgcolor\":\"white\",\"width\":800,\"height\":800},                        {\"responsive\": true}                    ).then(function(){\n",
              "                            \n",
              "var gd = document.getElementById('cb8d24c4-5214-48ca-b089-eb75100c3d69');\n",
              "var x = new MutationObserver(function (mutations, observer) {{\n",
              "        var display = window.getComputedStyle(gd).display;\n",
              "        if (!display || display === 'none') {{\n",
              "            console.log([gd, 'removed!']);\n",
              "            Plotly.purge(gd);\n",
              "            observer.disconnect();\n",
              "        }}\n",
              "}});\n",
              "\n",
              "// Listen for the removal of the full notebook cells\n",
              "var notebookContainer = gd.closest('#notebook-container');\n",
              "if (notebookContainer) {{\n",
              "    x.observe(notebookContainer, {childList: true});\n",
              "}}\n",
              "\n",
              "// Listen for the clearing of the current output cell\n",
              "var outputEl = gd.closest('.output');\n",
              "if (outputEl) {{\n",
              "    x.observe(outputEl, {childList: true});\n",
              "}}\n",
              "\n",
              "                        })                };                            </script>        </div>\n",
              "</body>\n",
              "</html>"
            ]
          },
          "metadata": {}
        }
      ],
      "source": [
        "import pandas as pd\n",
        "import networkx as nx\n",
        "import plotly.graph_objects as go\n",
        "\n",
        "# Load the CSV file\n",
        "file_path = '/content/Task1_pubmed_secondary_metabolites_Bacteria.csv'\n",
        "data = pd.read_csv(file_path)\n",
        "\n",
        "# Initialize a directed graph\n",
        "G = nx.DiGraph()\n",
        "\n",
        "# Define functions to add nodes and edges\n",
        "def add_nodes_from_column(column_name, node_type):\n",
        "    unique_items = data[column_name].dropna().unique()\n",
        "    for item in unique_items:\n",
        "        G.add_node(item, type=node_type)\n",
        "\n",
        "def add_edges_from_columns(source_col, target_col, edge_type):\n",
        "    for index, row in data.iterrows():\n",
        "        source = row[source_col]\n",
        "        target = row[target_col]\n",
        "        if pd.notna(source) and pd.notna(target):\n",
        "            G.add_edge(source, target, type=edge_type)\n",
        "\n",
        "# Adding nodes for different entities\n",
        "add_nodes_from_column('Gene', 'gene')\n",
        "add_nodes_from_column('Chemical', 'chemical')\n",
        "add_nodes_from_column('Disease', 'disease')\n",
        "add_nodes_from_column('Species', 'species')\n",
        "\n",
        "# Adding edges for different relationships\n",
        "add_edges_from_columns('Gene', 'Disease', 'association')  # Gene-Disease associations\n",
        "add_edges_from_columns('Chemical', 'Gene', 'interaction')  # Chemical-Gene interactions\n",
        "add_edges_from_columns('Species', 'Gene', 'expression')  # Species-Gene expression\n",
        "\n",
        "# Select top 200 nodes based on degree centrality\n",
        "deg_centrality = dict(G.degree())\n",
        "top_nodes = sorted(deg_centrality, key=deg_centrality.get, reverse=True)[:200]\n",
        "\n",
        "# Create a subgraph with top 200 nodes\n",
        "H = G.subgraph(top_nodes).copy()\n",
        "\n",
        "# Compute positions for nodes\n",
        "pos = nx.spring_layout(H, k=0.3, seed=42)  # Adjust layout parameters\n",
        "\n",
        "# Create Plotly plot\n",
        "edge_x = []\n",
        "edge_y = []\n",
        "for edge in H.edges():\n",
        "    x0, y0 = pos[edge[0]]\n",
        "    x1, y1 = pos[edge[1]]\n",
        "    edge_x.append(x0)\n",
        "    edge_x.append(x1)\n",
        "    edge_y.append(y0)\n",
        "    edge_y.append(y1)\n",
        "\n",
        "node_x = [pos[node][0] for node in H.nodes()]\n",
        "node_y = [pos[node][1] for node in H.nodes()]\n",
        "\n",
        "# Define color map for different node types\n",
        "node_color_map = {\n",
        "    'gene': 'blue',\n",
        "    'chemical': 'green',\n",
        "    'disease': 'red',\n",
        "    'species': 'purple'\n",
        "}\n",
        "\n",
        "# Ensure that node types are being retrieved correctly and apply colors\n",
        "node_colors = [node_color_map.get(H.nodes[n]['type'], 'grey') for n in H.nodes()]\n",
        "node_sizes = [deg_centrality[node] * 1.5 for node in H.nodes()]  # Smaller node size for better fit\n",
        "\n",
        "# Define color map for different edge types\n",
        "edge_color_map = {\n",
        "    'association': 'rgba(255, 0, 0, 0.3)',  # Lighter red for associations\n",
        "    'interaction': 'rgba(0, 255, 0, 0.3)',  # Lighter green for interactions\n",
        "    'expression': 'rgba(0, 0, 255, 0.3)'    # Lighter blue for expressions\n",
        "}\n",
        "edge_colors = [edge_color_map.get(H.edges[edge]['type'], 'rgba(0, 0, 0, 0.3)') for edge in H.edges()]\n",
        "\n",
        "# Create figure\n",
        "fig = go.Figure()\n",
        "\n",
        "# Add edges\n",
        "fig.add_trace(go.Scatter(\n",
        "    x=edge_x, y=edge_y,\n",
        "    mode='lines',\n",
        "    line=dict(width=0.5),  # Thicker edges for better visibility\n",
        "    marker=dict(color=edge_colors),\n",
        "    name='Relationships'\n",
        "))\n",
        "\n",
        "# Add nodes\n",
        "fig.add_trace(go.Scatter(\n",
        "    x=node_x, y=node_y,\n",
        "    mode='markers+text',\n",
        "    text=[f'{n}' for n in H.nodes()],\n",
        "    textposition='top center',\n",
        "    marker=dict(size=node_sizes, color=node_colors, opacity=0.8),  # Increased opacity\n",
        "    name='Entities'\n",
        "))\n",
        "\n",
        "# Add a legend\n",
        "legend_labels = {\n",
        "    'gene': 'Genes (Blue)',\n",
        "    'chemical': 'Chemicals (Green)',\n",
        "    'disease': 'Diseases (Red)',\n",
        "    'species': 'Species (Purple)'\n",
        "}\n",
        "\n",
        "# Add nodes for legend\n",
        "for node_type, color in node_color_map.items():\n",
        "    fig.add_trace(go.Scatter(\n",
        "        x=[None], y=[None],  # Empty plot to create legend entry\n",
        "        mode='markers',\n",
        "        marker=dict(size=15, color=color),\n",
        "        name=legend_labels[node_type]\n",
        "    ))\n",
        "\n",
        "fig.update_layout(\n",
        "    title='Biological Knowledge Graph (Top 200 Nodes)',\n",
        "    showlegend=True,\n",
        "    xaxis=dict(showgrid=False, zeroline=False),\n",
        "    yaxis=dict(showgrid=False, zeroline=False),\n",
        "    paper_bgcolor='white',\n",
        "    width=800,  # Adjust figure width for better fit\n",
        "    height=800   # Adjust figure height for better fit\n",
        ")\n",
        "\n",
        "# Save plot to HTML file\n",
        "fig.write_html('biological_knowledge_graph_200_resized.html')\n",
        "fig.show()\n"
      ]
    },
    {
      "cell_type": "code",
      "execution_count": 2,
      "metadata": {
        "id": "Msgcz-RVHx3R"
      },
      "outputs": [],
      "source": []
    }
  ],
  "metadata": {
    "colab": {
      "provenance": []
    },
    "kernelspec": {
      "display_name": "Python 3",
      "name": "python3"
    },
    "language_info": {
      "name": "python"
    }
  },
  "nbformat": 4,
  "nbformat_minor": 0
}