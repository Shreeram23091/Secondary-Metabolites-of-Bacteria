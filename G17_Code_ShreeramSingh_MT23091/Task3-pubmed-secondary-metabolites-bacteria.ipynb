{
  "nbformat": 4,
  "nbformat_minor": 0,
  "metadata": {
    "colab": {
      "provenance": []
    },
    "kernelspec": {
      "name": "python3",
      "display_name": "Python 3"
    },
    "language_info": {
      "name": "python"
    }
  },
  "cells": [
    {
      "cell_type": "markdown",
      "source": [
        "TASK 3"
      ],
      "metadata": {
        "id": "l50eIoblSGYu"
      }
    },
    {
      "cell_type": "markdown",
      "source": [
        "UPLOAD PUBTATOR THEN 4 CSV FILES WILL BE CREATED FOR GENES, DISEASE, SPECIES, CHEMICALS"
      ],
      "metadata": {
        "id": "gxZoPHFCSfoy"
      }
    },
    {
      "cell_type": "code",
      "source": [
        "df <- read.csv('/content/TASK2_PUBTATOR.csv')\n",
        "pmids <- df$PMID\n",
        "print(pmids)"
      ],
      "metadata": {
        "id": "8QmmXZUkSI7Y"
      },
      "execution_count": null,
      "outputs": []
    },
    {
      "cell_type": "code",
      "source": [
        "global_gene_list <- list()\n",
        "global_dis_list <- list()\n",
        "global_mut_list <- list()\n",
        "global_chem_list <- list()\n",
        "global_spec_list <- list()\n",
        "cnt<-0\n",
        "# Loop through each PMID\n",
        "for (i in 1:2000) {\n",
        "  pmid <- df$PMID[i]\n",
        "\n",
        "  # Call pubtator_function and extract information\n",
        "   tryCatch({\n",
        "  ch <- pubtator_function(pmid)\n",
        "  # print(ch)\n",
        "  if (\"Genes\" %in% names(ch)) {\n",
        "    genes <- ch[[\"Genes\"]]\n",
        "    # print(genes)\n",
        "    genes <- as.character(genes)  # Ensure that genes is a character\n",
        "\n",
        "    # Split the genes by newline and add each gene to the global list\n",
        "    genes_list <- unlist(strsplit(genes, \"\\n\"))\n",
        "\n",
        "    df$Genes[i] <- paste(genes_list, collapse = \";\")\n",
        "    #hashmap\n",
        "    if (length(genes) > 0) {\n",
        "    for (gene in genes_list) {\n",
        "      # Split the genes by newline and add each gene to the global list\n",
        "      if (gene %in% names(global_gene_list)) {\n",
        "        # If the gene is already in the hash map, append the PMID to its list\n",
        "        global_gene_list[[gene]] <- c(global_gene_list[[gene]], pmid)\n",
        "      } else {\n",
        "        # If the gene is not in the hash map, create a new entry with the gene as the key and a list containing the PMID as the value\n",
        "        global_gene_list[[gene]] <- c(pmid)\n",
        "      }\n",
        "    }\n",
        "  }\n",
        "  }\n",
        "  if (\"Diseases\" %in% names(ch)) {\n",
        "    diseases <- ch[[\"Diseases\"]]\n",
        "    # print(genes)\n",
        "    diseases <- as.character(diseases)  # Ensure that genes is a character\n",
        "\n",
        "    # Split the genes by newline and add each gene to the global list\n",
        "    diseases_list <- unlist(strsplit(diseases, \"\\n\"))\n",
        "\n",
        "    df$Diseases[i] <- paste(diseases_list, collapse = \";\")\n",
        "    #hashMap\n",
        "    if (length(diseases) > 0) {\n",
        "\n",
        "    for (disease in diseases_list) {\n",
        "      # Split the genes by newline and add each gene to the global list\n",
        "      if (disease %in% names(global_dis_list)) {\n",
        "        # If the gene is already in the hash map, append the PMID to its list\n",
        "        global_dis_list[[disease]] <- c(global_dis_list[[disease]], pmid)\n",
        "      } else {\n",
        "        # If the gene is not in the hash map, create a new entry with the gene as the key and a list containing the PMID as the value\n",
        "        global_dis_list[[disease]] <- c(pmid)\n",
        "      }\n",
        "    }\n",
        "  }\n",
        "  }\n",
        "  if (\"Mutations\" %in% names(ch)) {\n",
        "    mutations <- ch[[\"Mutations\"]]\n",
        "    # print(genes)\n",
        "    mutations <- as.character(mutations)  # Ensure that genes is a character\n",
        "\n",
        "    # Split the genes by newline and add each gene to the global list\n",
        "    mutations_list <- unlist(strsplit(mutations, \"\\n\"))\n",
        "\n",
        "    df$Mutations[i] <- paste(mutations_list, collapse = \";\")\n",
        "    if (length(mutations) > 0) {\n",
        "\n",
        "    for (mutation in mutations_list) {\n",
        "      # Split the genes by newline and add each gene to the global list\n",
        "      if (mutation %in% names(global_mut_list)) {\n",
        "        # If the gene is already in the hash map, append the PMID to its list\n",
        "        global_mut_list[[mutation]] <- c(global_mut_list[[mutation]], pmid)\n",
        "      } else {\n",
        "        # If the gene is not in the hash map, create a new entry with the gene as the key and a list containing the PMID as the value\n",
        "        global_mut_list[[mutation]] <- c(pmid)\n",
        "      }\n",
        "    }\n",
        "  }\n",
        "  }\n",
        "  if (\"Chemicals\" %in% names(ch)) {\n",
        "    chemicals <- ch[[\"Chemicals\"]]\n",
        "    # print(genes)\n",
        "    chemicals <- as.character(chemicals)  # Ensure that genes is a character\n",
        "\n",
        "    # Split the genes by newline and add each gene to the global list\n",
        "    chemicals_list <- unlist(strsplit(chemicals, \"\\n\"))\n",
        "\n",
        "    df$Chemicals[i] <- paste(chemicals_list, collapse = \";\")\n",
        "    if (length(chemicals) > 0) {\n",
        "\n",
        "    for (chemical in chemicals_list) {\n",
        "      # Split the genes by newline and add each gene to the global list\n",
        "      if (chemical %in% names(global_chem_list)) {\n",
        "        # If the gene is already in the hash map, append the PMID to its list\n",
        "        global_chem_list[[chemical]] <- c(global_chem_list[[chemical]], pmid)\n",
        "      } else {\n",
        "        # If the gene is not in the hash map, create a new entry with the gene as the key and a list containing the PMID as the value\n",
        "        global_chem_list[[chemical]] <- c(pmid)\n",
        "      }\n",
        "    }\n",
        "  }\n",
        "  }\n",
        "  if (\"Species\" %in% names(ch)) {\n",
        "    species <- ch[[\"Species\"]]\n",
        "    # print(genes)\n",
        "    species <- as.character(species)  # Ensure that genes is a character\n",
        "\n",
        "    # Split the genes by newline and add each gene to the global list\n",
        "    species_list <- unlist(strsplit(species, \"\\n\"))\n",
        "\n",
        "    df$Species[i] <- paste(species_list, collapse = \";\")\n",
        "    if (length(species) > 0) {\n",
        "\n",
        "    for (specie in species_list) {\n",
        "      # Split the genes by newline and add each gene to the global list\n",
        "      if (specie %in% names(global_spec_list)) {\n",
        "        # If the gene is already in the hash map, append the PMID to its list\n",
        "        global_spec_list[[specie]] <- c(global_spec_list[[specie]], pmid)\n",
        "      } else {\n",
        "        # If the gene is not in the hash map, create a new entry with the gene as the key and a list containing the PMID as the value\n",
        "        global_spec_list[[specie]] <- c(pmid)\n",
        "      }\n",
        "    }\n",
        "  }\n",
        "  }\n",
        "  }, error = function(e) {\n",
        "    # Handle the error, print a message, or continue to the next PMID\n",
        "    cat(\"Error processing PMID:\", pmid, \"\\n\")\n",
        "  })\n",
        "\n",
        "\n",
        "}"
      ],
      "metadata": {
        "id": "CYu-0qN4SOac"
      },
      "execution_count": null,
      "outputs": []
    },
    {
      "cell_type": "code",
      "source": [
        "# Create a function to export data to CSV\n",
        "export_to_csv <- function(category, filename) {\n",
        "    values <- character(0)\n",
        "    categories <- character(0)\n",
        "\n",
        "    for (key in names(category)) {\n",
        "        value_values <- unlist(category[key])\n",
        "        num_values <- length(value_values)\n",
        "\n",
        "        categories <- c(categories, rep(key, num_values))\n",
        "        values <- c(values, value_values)\n",
        "    }\n",
        "\n",
        "    data_frame <- data.frame(Category = categories, PMID = values)\n",
        "    write.csv(data_frame, filename, row.names = FALSE)\n",
        "}\n",
        "\n",
        "# Export each category to a separate CSV file\n",
        "export_to_csv(global_gene_list, \"genes.csv\")\n",
        "export_to_csv(global_dis_list, \"diseases.csv\")\n",
        "export_to_csv(global_mut_list, \"mutations.csv\")\n",
        "export_to_csv(global_chem_list, \"chemicals.csv\")\n",
        "export_to_csv(global_spec_list, \"species.csv\")"
      ],
      "metadata": {
        "id": "kBvVQqhqSQ7V"
      },
      "execution_count": null,
      "outputs": []
    },
    {
      "cell_type": "code",
      "source": [
        "write.csv(df, file = '/content/task2.csv', row.names = FALSE)"
      ],
      "metadata": {
        "id": "pD2G2XBoSTno"
      },
      "execution_count": null,
      "outputs": []
    },
    {
      "cell_type": "code",
      "source": [
        "\n",
        "# Create global lists for each type\n",
        "global_gene_list <- list()\n",
        "global_dis_list <- list()\n",
        "global_mut_list <- list()\n",
        "global_chem_list <- list()\n",
        "global_spec_list <- list()\n",
        "\n",
        "# Function to process and store information for a single PubMed ID\n",
        "process_pubmed_id <- function(pmid) {\n",
        "  result <- pubtator_function(pmid)\n",
        "\n",
        "  # Check if the result contains the \"Genes\" key\n",
        " if (\"Genes\" %in% names(result)) {\n",
        "  genes <- result[[\"Genes\"]]\n",
        "  if (length(genes) > 0) {\n",
        "    genes_list <- unlist(strsplit(genes, \"\\n\"))\n",
        "    for (gene in genes_list) {\n",
        "      # Split the genes by newline and add each gene to the global list\n",
        "      if (gene %in% names(global_gene_list)) {\n",
        "        # If the gene is already in the hash map, append the PMID to its list\n",
        "        global_gene_list[[gene]] <<- c(global_gene_list[[gene]], pmid)\n",
        "      } else {\n",
        "        # If the gene is not in the hash map, create a new entry with the gene as the key and a list containing the PMID as the value\n",
        "        global_gene_list[[gene]] <<- list(pmid)\n",
        "      }\n",
        "    }\n",
        "  }\n",
        "}\n",
        "\n",
        "  if (\"Diseases\" %in% names(result)) {\n",
        "  diseases <- result[[\"Diseases\"]]\n",
        "  if (length(diseases) > 0) {\n",
        "    diseases_list <- unlist(strsplit(diseases, \"\\n\"))\n",
        "    for (disease in diseases_list) {\n",
        "      # Split the genes by newline and add each gene to the global list\n",
        "      if (disease %in% names(global_dis_list)) {\n",
        "        # If the gene is already in the hash map, append the PMID to its list\n",
        "        global_dis_list[[disease]] <<- c(global_dis_list[[disease]], pmid)\n",
        "      } else {\n",
        "        # If the gene is not in the hash map, create a new entry with the gene as the key and a list containing the PMID as the value\n",
        "        global_dis_list[[disease]] <<- list(pmid)\n",
        "      }\n",
        "    }\n",
        "  }\n",
        "}\n",
        "\n",
        "  if (\"Mutations\" %in% names(result)) {\n",
        "  mutations <- result[[\"Mutations\"]]\n",
        "  if (length(mutations) > 0) {\n",
        "    mutations_list <- unlist(strsplit(mutations, \"\\n\"))\n",
        "    for (mutation in mutations_list) {\n",
        "      # Split the genes by newline and add each gene to the global list\n",
        "      if (mutation %in% names(global_mut_list)) {\n",
        "        # If the gene is already in the hash map, append the PMID to its list\n",
        "        global_mut_list[[mutation]] <<- c(global_mut_list[[mutation]], pmid)\n",
        "      } else {\n",
        "        # If the gene is not in the hash map, create a new entry with the gene as the key and a list containing the PMID as the value\n",
        "        global_mut_list[[mutation]] <<- list(pmid)\n",
        "      }\n",
        "    }\n",
        "  }\n",
        "}\n",
        "\n",
        "  if (\"Chemicals\" %in% names(result)) {\n",
        "  chemicals <- result[[\"Chemicals\"]]\n",
        "  if (length(chemicals) > 0) {\n",
        "    chemicals_list <- unlist(strsplit(chemicals, \"\\n\"))\n",
        "    for (chemical in chemicals_list) {\n",
        "      # Split the genes by newline and add each gene to the global list\n",
        "      if (chemical %in% names(global_chem_list)) {\n",
        "        # If the gene is already in the hash map, append the PMID to its list\n",
        "        global_chem_list[[chemical]] <<- c(global_chem_list[[chemical]], pmid)\n",
        "      } else {\n",
        "        # If the gene is not in the hash map, create a new entry with the gene as the key and a list containing the PMID as the value\n",
        "        global_chem_list[[chemical]] <<- list(pmid)\n",
        "      }\n",
        "    }\n",
        "  }\n",
        "}\n",
        "\n",
        "  if (\"Species\" %in% names(result)) {\n",
        "  species <- result[[\"Species\"]]\n",
        "  if (length(species) > 0) {\n",
        "    species_list <- unlist(strsplit(species, \"\\n\"))\n",
        "    for (specie in species_list) {\n",
        "      # Split the genes by newline and add each gene to the global list\n",
        "      if (specie %in% names(global_spec_list)) {\n",
        "        # If the gene is already in the hash map, append the PMID to its list\n",
        "        global_spec_list[[specie]] <<- c(global_spec_list[[specie]], pmid)\n",
        "      } else {\n",
        "        # If the gene is not in the hash map, create a new entry with the gene as the key and a list containing the PMID as the value\n",
        "        global_spec_list[[specie]] <<- list(pmid)\n",
        "      }\n",
        "    }\n",
        "  }\n",
        "}\n",
        "\n",
        "}\n",
        "\n",
        "# Create a list of PubMed IDs (replace with your list of 10000 IDs)\n",
        "pmids <- c(35774047,26595643,31294622)\n",
        "\n",
        "# Loop through PubMed IDs and store information in the global lists\n",
        "for (pmid in pmids) {\n",
        "  process_pubmed_id(pmid)\n",
        "\n",
        "}\n",
        "\n",
        "# # Access and print accumulated information for a specific key (e.g., \"Genes\")\n",
        "# print(global_lists$Genes)\n",
        "# print(global_lists$Diseases)\n",
        "# # And so on for other keys\n"
      ],
      "metadata": {
        "id": "mAbt_8HeSaOX"
      },
      "execution_count": null,
      "outputs": []
    },
    {
      "cell_type": "code",
      "source": [
        "count_categories_from_pmid <- function(pmid) {\n",
        "  # Call pubtator_function\n",
        "  ch <- pubtator_function(pmid)\n",
        "\n",
        "  # Initialize counts\n",
        "  counts <- list(\n",
        "    Genes = 0,\n",
        "    Diseases = 0,\n",
        "    Mutations = 0,\n",
        "    Chemicals = 0,\n",
        "    Species = 0\n",
        "  )\n",
        "\n",
        "  # Define regular expressions for pattern matching\n",
        "  patterns <- c(\n",
        "    Genes = \">(\\\\d+)\",\n",
        "    Diseases = \">(\\\\w+:\\\\d+|MESH:\\\\w+)\",\n",
        "    Species = \">(\\\\d+)\"\n",
        "  )\n",
        "\n",
        "  # Iterate through categories\n",
        "  for (category in names(patterns)) {\n",
        "    pattern <- patterns[category]\n",
        "    matches <- gregexpr(pattern, ch[[category]])\n",
        "    counts[[category]] <- sum(sapply(matches, function(x) length(x[x > 0])))\n",
        "  }\n",
        "\n",
        "  return(counts)\n",
        "}\n",
        "\n",
        "# Example usage\n",
        "pmid <- 35774047\n",
        "counts <- count_categories_from_pmid(pmid)\n",
        "\n",
        "# Access individual counts\n",
        "counts$Genes\n",
        "counts$Diseases\n",
        "counts$Mutations\n",
        "counts$Chemicals\n",
        "counts$Species\n"
      ],
      "metadata": {
        "id": "V6rKxopjSdRA"
      },
      "execution_count": null,
      "outputs": []
    },
    {
      "cell_type": "markdown",
      "source": [
        "FOR GENES"
      ],
      "metadata": {
        "id": "Gl6YkL0SMbJa"
      }
    },
    {
      "cell_type": "code",
      "execution_count": null,
      "metadata": {
        "colab": {
          "base_uri": "https://localhost:8080/"
        },
        "id": "3njFqDWJMHZd",
        "outputId": "a8308e14-9e2c-46ca-aad1-8aa276678df8"
      },
      "outputs": [
        {
          "output_type": "stream",
          "name": "stdout",
          "text": [
            "CSV file has been updated and saved as 'updated_file.csv'.\n"
          ]
        }
      ],
      "source": [
        "import pandas as pd\n",
        "\n",
        "# Read the CSV file\n",
        "df = pd.read_csv('/content/genes.csv')\n",
        "\n",
        "# Split the data in the 'Gene' column by '>'\n",
        "split_genes = df['Category'].str.split('>', expand=True)\n",
        "\n",
        "# Update the 'Gene' column with the gene part\n",
        "df['Category'] = split_genes[0]\n",
        "\n",
        "# Create a new column 'GeneID' and assign the GeneID part\n",
        "df['GeneID'] = split_genes[1]\n",
        "\n",
        "\n",
        "# Group by 'Gene' and 'GeneID' and aggregate the 'PMID' values into lists\n",
        "aggregated_df = df.groupby(['Category', 'GeneID'])['PMID'].agg(list).reset_index()\n",
        "\n",
        "# Calculate the length of each PMID list and store it in a new column 'length'\n",
        "aggregated_df['length'] = aggregated_df['PMID'].apply(len)\n",
        "\n",
        "# Write the updated DataFrame back to a CSV file\n",
        "aggregated_df.to_csv('updated_file.csv', index=False)\n",
        "\n",
        "print(\"CSV file has been updated and saved as 'updated_file.csv'.\")\n"
      ]
    },
    {
      "cell_type": "markdown",
      "source": [
        "FOR CHEMICHALS\n"
      ],
      "metadata": {
        "id": "Gg6pYnMuN7E6"
      }
    },
    {
      "cell_type": "code",
      "source": [
        "import pandas as pd\n",
        "\n",
        "# Read the CSV file\n",
        "df = pd.read_csv('/content/chemicals.csv')\n",
        "\n",
        "# Split the data in the 'Disease' column by '>'\n",
        "split_diseases = df['Category'].str.split('>', expand=True)\n",
        "\n",
        "# Update the 'Disease' column with the disease part\n",
        "df['Chemical'] = split_diseases[0]\n",
        "\n",
        "# Create a new column 'DiseaseID' and assign the DiseaseID part\n",
        "#df['DiseaseID'] = split_diseases[1]\n",
        "\n",
        "df['ChemicalID'] = split_diseases[1].str.split(':').str[1]\n",
        "\n",
        "# Group by 'Disease' and 'DiseaseID' and aggregate the 'PMID' values into lists\n",
        "aggregated_df = df.groupby(['Chemical', 'ChemicalID'])['PMID'].agg(list).reset_index()\n",
        "\n",
        "# Calculate the length of each PMID list and store it in a new column 'length'\n",
        "aggregated_df['length'] = aggregated_df['PMID'].apply(len)\n",
        "\n",
        "# Write the updated DataFrame back to a CSV file\n",
        "aggregated_df.to_csv('tanmay_chemical.csv', index=False)\n",
        "\n",
        "print(\"CSV file has been updated and saved as 'updated_file.csv'.\")\n"
      ],
      "metadata": {
        "id": "VdPRccRHNjp_",
        "colab": {
          "base_uri": "https://localhost:8080/"
        },
        "outputId": "989bd719-5aa3-48ba-e89c-a5975183bcb6"
      },
      "execution_count": 2,
      "outputs": [
        {
          "output_type": "stream",
          "name": "stdout",
          "text": [
            "CSV file has been updated and saved as 'updated_file.csv'.\n"
          ]
        }
      ]
    },
    {
      "cell_type": "markdown",
      "source": [
        "FOR SPECIES"
      ],
      "metadata": {
        "id": "oLXvEoHqOtjY"
      }
    },
    {
      "cell_type": "code",
      "source": [
        "import pandas as pd\n",
        "\n",
        "# Read the CSV file\n",
        "df = pd.read_csv('/content/species.csv')\n",
        "\n",
        "# Split the data in the 'Gene' column by '>'\n",
        "split_genes = df['Category'].str.split('>', expand=True)\n",
        "\n",
        "# Assign the split parts into a new column named 'GeneID'\n",
        "df['CategoryID'] = split_genes[1]\n",
        "df['Category']=split_genes[0]\n",
        "\n",
        "# Convert 'PMID' column to list-like data if it's not already\n",
        "#df['PMID'] = df['PMID'].apply(lambda x: [x] if isinstance(x, int) else x)\n",
        "\n",
        "# Group by 'Gene' and 'GeneID' and aggregate the 'PMID' values into lists\n",
        "aggregated_df = df.groupby(['Category', 'CategoryID'])['PMID'].agg(list).reset_index()\n",
        "\n",
        "updated_file = 'C:\\\\Users\\\\nites\\\\Desktop\\\\Python\\\\updated_file.csv'\n",
        "aggregated_df['length'] = aggregated_df['PMID'].apply(len)\n",
        "#aggregated_df['length'] = aggregated_df['PMID'].apply(len)\n",
        "\n",
        "# Write the updated DataFrame back to a CSV file\n",
        "aggregated_df.to_csv('species_tanmay.csv', index=False)\n",
        "\n",
        "\n",
        "#df.to_csv('updated_file.csv', index=False)\n",
        "\n",
        "print(\"CSV file has been updated and saved as 'updated_file.csv'.\")\n",
        "\n",
        "\n",
        "\n"
      ],
      "metadata": {
        "colab": {
          "base_uri": "https://localhost:8080/"
        },
        "id": "HYUokXzpOcBv",
        "outputId": "2d0b2d54-aab1-408a-b581-007f7b3be70c"
      },
      "execution_count": 3,
      "outputs": [
        {
          "output_type": "stream",
          "name": "stdout",
          "text": [
            "CSV file has been updated and saved as 'updated_file.csv'.\n"
          ]
        }
      ]
    },
    {
      "cell_type": "markdown",
      "source": [
        "FOR DISEASE"
      ],
      "metadata": {
        "id": "nZuHYXmdQgoF"
      }
    },
    {
      "cell_type": "code",
      "source": [
        "import pandas as pd\n",
        "\n",
        "# Read the CSV file\n",
        "df = pd.read_csv('/content/diseases.csv')\n",
        "\n",
        "# Split the data in the 'Disease' column by '>'\n",
        "split_diseases = df['Category'].str.split('>', expand=True)\n",
        "\n",
        "# Update the 'Disease' column with the disease part\n",
        "df['Category'] = split_diseases[0]\n",
        "\n",
        "# Create a new column 'DiseaseID' and assign the DiseaseID part\n",
        "#df['DiseaseID'] = split_diseases[1]\n",
        "\n",
        "df['DiseaseID'] = split_diseases[1].str.split(':').str[1]\n",
        "\n",
        "# Group by 'Disease' and 'DiseaseID' and aggregate the 'PMID' values into lists\n",
        "aggregated_df = df.groupby(['Category', 'DiseaseID'])['PMID'].agg(list).reset_index()\n",
        "\n",
        "# Calculate the length of each PMID list and store it in a new column 'length'\n",
        "aggregated_df['length'] = aggregated_df['PMID'].apply(len)\n",
        "\n",
        "# Write the updated DataFrame back to a CSV file\n",
        "aggregated_df.to_csv('disease_tanmay.csv', index=False)\n",
        "\n",
        "print(\"CSV file has been updated and saved as 'updated_file.csv'.\")\n"
      ],
      "metadata": {
        "colab": {
          "base_uri": "https://localhost:8080/"
        },
        "id": "walzN6_sPZsU",
        "outputId": "9eb55f5b-4c33-4463-c47a-2a11622b7294"
      },
      "execution_count": 4,
      "outputs": [
        {
          "output_type": "stream",
          "name": "stdout",
          "text": [
            "CSV file has been updated and saved as 'updated_file.csv'.\n"
          ]
        }
      ]
    },
    {
      "cell_type": "code",
      "source": [],
      "metadata": {
        "id": "nheTjghAQxiu"
      },
      "execution_count": null,
      "outputs": []
    }
  ]
}